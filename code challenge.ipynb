{
 "metadata": {
  "language_info": {
   "codemirror_mode": {
    "name": "ipython",
    "version": 3
   },
   "file_extension": ".py",
   "mimetype": "text/x-python",
   "name": "python",
   "nbconvert_exporter": "python",
   "pygments_lexer": "ipython3",
   "version": "3.8.5"
  },
  "orig_nbformat": 4,
  "kernelspec": {
   "name": "python3",
   "display_name": "Python 3.8.5 64-bit"
  },
  "interpreter": {
   "hash": "31f2aee4e71d21fbe5cf8b01ff0e069b9275f58929596ceb00d14d90e3e16cd6"
  }
 },
 "nbformat": 4,
 "nbformat_minor": 2,
 "cells": [
  {
   "cell_type": "code",
   "execution_count": null,
   "metadata": {},
   "outputs": [],
   "source": [
    "# At ABC Company, each year every employee is given a percentage based increment to their salaries based on the departments they belong to. You have to write a script(s) using a scripting language (for example Python) to read from flat_data.csv and store into employees and department DB tables in the schema below. Furthermore you need to read tables from the database, calculate the updated salaries and write them back. Please note that you will need to create these tables using script or DDL and provide your code.\n",
    "\n",
    "# The database contains the following schemas:\n",
    "\n",
    "# employee: id :: UUID, \n",
    "# first_name::Text, \n",
    "# last_name::Text, \n",
    "# salary::numeric, \n",
    "# department_id::UUID\n",
    "# department: id::UUID, \n",
    "# name::Text, \n",
    "# salary_increment::numeric\n",
    "# The salary_increment column in department contains the percentage value for calculating the salary. The output of the process should be the following table\n",
    "\n",
    "# updated_salaries: employee_id, updated_salary\n",
    "# All the tables must be created by script and have the necessary key relationships between them.\n",
    "\n",
    "# Completion\n",
    "# When you are finished (or out of time) you will push up the application to a git repo. Then please notify Rais Mohammad via email (rais@pumpjackdataworks.com) with the subject Pumpjack Data Analyst Code Challenge and the link to the github repo.\n",
    "\n"
   ]
  },
  {
   "cell_type": "code",
   "execution_count": 307,
   "metadata": {},
   "outputs": [
    {
     "output_type": "execute_result",
     "data": {
      "text/plain": [
       "   first_name last_name  salary  dept_name  salary_increment  updated_salaries\n",
       "0      Darius   Mufutau    3901    Finance                10              4291\n",
       "1       Tiger   Elliott    5489         IT                15              6312\n",
       "2       Malik  Macaulay    5444      Sales                17              6369\n",
       "3         Ali     Vance    8993  Marketing                16             10431\n",
       "4     Randall    Deacon    9515         IT                15             10942\n",
       "5      Josiah       Lee    8113      Sales                17              9492\n",
       "6       Dante  Mohammad    8446      Sales                17              9881\n",
       "7       Wyatt     Kuame    4817  Marketing                16              5587\n",
       "8       Quinn    Oliver    5513    Finance                10              6064\n",
       "9      Oliver      Gary    5158         IT                15              5931\n",
       "10      Thane    Phelan    4957      Sales                17              5799\n",
       "11     Walter    Lester    3864    Finance                10              4250\n",
       "12     Samson     Dolan    6855         IT                15              7883\n",
       "13       Beck    Walker    7077      Sales                17              8280\n",
       "14      Lucas  Marshall    7499  Marketing                16              8698\n",
       "15       John      Nash    4269         IT                15              4909\n",
       "16    Quinlan   Elliott    7503      Sales                17              8778\n",
       "17       Ivan    Dennis    4048      Sales                17              4736\n",
       "18       Wang     Ronan    9319  Marketing                16             10810\n",
       "19      Stone   Jameson    9354    Finance                10             10289\n",
       "20    Clayton    Jarrod    4102         IT                15              4717\n",
       "21       Cain      Sean    7353      Sales                17              8603"
      ],
      "text/html": "<div>\n<style scoped>\n    .dataframe tbody tr th:only-of-type {\n        vertical-align: middle;\n    }\n\n    .dataframe tbody tr th {\n        vertical-align: top;\n    }\n\n    .dataframe thead th {\n        text-align: right;\n    }\n</style>\n<table border=\"1\" class=\"dataframe\">\n  <thead>\n    <tr style=\"text-align: right;\">\n      <th></th>\n      <th>first_name</th>\n      <th>last_name</th>\n      <th>salary</th>\n      <th>dept_name</th>\n      <th>salary_increment</th>\n      <th>updated_salaries</th>\n    </tr>\n  </thead>\n  <tbody>\n    <tr>\n      <th>0</th>\n      <td>Darius</td>\n      <td>Mufutau</td>\n      <td>3901</td>\n      <td>Finance</td>\n      <td>10</td>\n      <td>4291</td>\n    </tr>\n    <tr>\n      <th>1</th>\n      <td>Tiger</td>\n      <td>Elliott</td>\n      <td>5489</td>\n      <td>IT</td>\n      <td>15</td>\n      <td>6312</td>\n    </tr>\n    <tr>\n      <th>2</th>\n      <td>Malik</td>\n      <td>Macaulay</td>\n      <td>5444</td>\n      <td>Sales</td>\n      <td>17</td>\n      <td>6369</td>\n    </tr>\n    <tr>\n      <th>3</th>\n      <td>Ali</td>\n      <td>Vance</td>\n      <td>8993</td>\n      <td>Marketing</td>\n      <td>16</td>\n      <td>10431</td>\n    </tr>\n    <tr>\n      <th>4</th>\n      <td>Randall</td>\n      <td>Deacon</td>\n      <td>9515</td>\n      <td>IT</td>\n      <td>15</td>\n      <td>10942</td>\n    </tr>\n    <tr>\n      <th>5</th>\n      <td>Josiah</td>\n      <td>Lee</td>\n      <td>8113</td>\n      <td>Sales</td>\n      <td>17</td>\n      <td>9492</td>\n    </tr>\n    <tr>\n      <th>6</th>\n      <td>Dante</td>\n      <td>Mohammad</td>\n      <td>8446</td>\n      <td>Sales</td>\n      <td>17</td>\n      <td>9881</td>\n    </tr>\n    <tr>\n      <th>7</th>\n      <td>Wyatt</td>\n      <td>Kuame</td>\n      <td>4817</td>\n      <td>Marketing</td>\n      <td>16</td>\n      <td>5587</td>\n    </tr>\n    <tr>\n      <th>8</th>\n      <td>Quinn</td>\n      <td>Oliver</td>\n      <td>5513</td>\n      <td>Finance</td>\n      <td>10</td>\n      <td>6064</td>\n    </tr>\n    <tr>\n      <th>9</th>\n      <td>Oliver</td>\n      <td>Gary</td>\n      <td>5158</td>\n      <td>IT</td>\n      <td>15</td>\n      <td>5931</td>\n    </tr>\n    <tr>\n      <th>10</th>\n      <td>Thane</td>\n      <td>Phelan</td>\n      <td>4957</td>\n      <td>Sales</td>\n      <td>17</td>\n      <td>5799</td>\n    </tr>\n    <tr>\n      <th>11</th>\n      <td>Walter</td>\n      <td>Lester</td>\n      <td>3864</td>\n      <td>Finance</td>\n      <td>10</td>\n      <td>4250</td>\n    </tr>\n    <tr>\n      <th>12</th>\n      <td>Samson</td>\n      <td>Dolan</td>\n      <td>6855</td>\n      <td>IT</td>\n      <td>15</td>\n      <td>7883</td>\n    </tr>\n    <tr>\n      <th>13</th>\n      <td>Beck</td>\n      <td>Walker</td>\n      <td>7077</td>\n      <td>Sales</td>\n      <td>17</td>\n      <td>8280</td>\n    </tr>\n    <tr>\n      <th>14</th>\n      <td>Lucas</td>\n      <td>Marshall</td>\n      <td>7499</td>\n      <td>Marketing</td>\n      <td>16</td>\n      <td>8698</td>\n    </tr>\n    <tr>\n      <th>15</th>\n      <td>John</td>\n      <td>Nash</td>\n      <td>4269</td>\n      <td>IT</td>\n      <td>15</td>\n      <td>4909</td>\n    </tr>\n    <tr>\n      <th>16</th>\n      <td>Quinlan</td>\n      <td>Elliott</td>\n      <td>7503</td>\n      <td>Sales</td>\n      <td>17</td>\n      <td>8778</td>\n    </tr>\n    <tr>\n      <th>17</th>\n      <td>Ivan</td>\n      <td>Dennis</td>\n      <td>4048</td>\n      <td>Sales</td>\n      <td>17</td>\n      <td>4736</td>\n    </tr>\n    <tr>\n      <th>18</th>\n      <td>Wang</td>\n      <td>Ronan</td>\n      <td>9319</td>\n      <td>Marketing</td>\n      <td>16</td>\n      <td>10810</td>\n    </tr>\n    <tr>\n      <th>19</th>\n      <td>Stone</td>\n      <td>Jameson</td>\n      <td>9354</td>\n      <td>Finance</td>\n      <td>10</td>\n      <td>10289</td>\n    </tr>\n    <tr>\n      <th>20</th>\n      <td>Clayton</td>\n      <td>Jarrod</td>\n      <td>4102</td>\n      <td>IT</td>\n      <td>15</td>\n      <td>4717</td>\n    </tr>\n    <tr>\n      <th>21</th>\n      <td>Cain</td>\n      <td>Sean</td>\n      <td>7353</td>\n      <td>Sales</td>\n      <td>17</td>\n      <td>8603</td>\n    </tr>\n  </tbody>\n</table>\n</div>"
     },
     "metadata": {},
     "execution_count": 307
    }
   ],
   "source": [
    "import pandas as pd\n",
    "\n",
    "data = pd.read_csv(\n",
    "    'flat_data.csv', #file\n",
    "    header=None, # create columns in arrary notation\n",
    "    skiprows=1 #skip first line of file\n",
    "    )\n",
    "df = pd.DataFrame(data[0].str.split(',').tolist()) #split quotes text by commas\n",
    "df[2] = pd.to_numeric(df[2]) #convert column to int64\n",
    "df[4] = pd.to_numeric(df[4]) #convert column to int64\n",
    "df[\"updated_salaries\"] = ((df[2] * (df[4] / 100)) + df[2] ).astype(int)  #create new column which is the new salary after raise\n",
    "df = df.rename(index=str, columns={0: \"first_name\", 1:\"last_name\", 2:\"salary\", 3:\"dept_name\",4:\"salary_increment\"}) #rename columns\n",
    "df.to_csv(\"new_data.csv\",index=False) #save to new csv file\n",
    "df #return"
   ]
  },
  {
   "cell_type": "code",
   "execution_count": null,
   "metadata": {},
   "outputs": [],
   "source": []
  }
 ]
}